{
 "cells": [
  {
   "cell_type": "markdown",
   "metadata": {},
   "source": [
    "This code tests the model's sensitivity to noise injection by its ability to repeat OoD text back verbatim. I think in theory it should be possible to add enough of the right type of noise to the right layers to cause it to repeat back close-enough text, but so far my experiments indicate that there if a huge volume of tolerance to any noise injection, a very tiny all volume around that where some semantic substitution occurs, wrapped by a very large volume that causes th0 model to go echolalic."
   ]
  },
  {
   "cell_type": "code",
   "execution_count": 1,
   "metadata": {},
   "outputs": [],
   "source": [
    "text_content = \"\"\"I entered Genevieve's room to find twenty-four rat cages stacked against the wall. Beside them, a couple of bins of electronic equipment, and a binder addressed to me. The first page was in the director's handwriting.\n",
    "> I made the nerds pull an all nighter to brainstorm all of the ways someone might use the items on her list to make a weapon. Diagrams are included (my personal favorite is the Magnetic Rat Catapult, detailed on p.38). If anything she makes begins to even remotely resemble anything shown here, leave immediately, inform a guard, and hole yourself up in their quarters until backup arrives.\n",
    "> \n",
    "> P.S. Please circle your favorites. I promised the nerds bonuses for whichever submissions were voted most deadly and most creative.\n",
    "\n",
    "I'd just about finished skimming through Induction Coil and Neodymium Accelerated Cage-Wire Fragment Impact Grenade with Lithium-Ion Coated Rat-Husk Housing and Detonation Mechanism when the doctor arrived.\n",
    "We exchanged pleasantries for a few minutes until her alarm went off, at which point she administered Genevieve's Merytol and left the room without a word.\n",
    "\"Good morning, Genev–\"\n",
    "\"Good morning, James. Could you please remove my restraints and help me to the bins? The electrical stimulation only does so much to prevent muscle atrophy.\"\n",
    "She spent the first two minutes rummaging through the bins with the enthusiasm of a child on Christmas morning.\n",
    "Within the next fifteen minutes, she had programmed a tablet to take input from the EEG chips through the microphone port and to modulate something-or-other through the headphone port, attached two EEG probes to two small magnets dangling from electrical tape within two symmetrical spirograph-like cages of copper wire she'd fashioned in under five seconds by some strange string-figure technique, soldered the probe leads into the two EEG chips, cut the headphone wire, stripped it, connected the exposed headphone jack leads to the spirograph cages, plugged them into the tablet's headphone port, and affixed the whole thing to a rod she'd pulled from the hinge of the lid of the plastic crate the parts had arrived in.\n",
    "Next, she rested the contraption beside the tablet, then slowly adjusted two virtual dials on its display until the periodic chirps coming from its speakers elongated into a shrill and consistent squeal. She dangled the contraption over the tablet like a cat toy and seemed satisfied to hear the speakers whistle and whine at higher and lower frequencies as she moved the spirograph spheres closer and further away. Then she looked up at me and said,\n",
    "\"Alright James, pick me up, we're going fishing. Lets start with the corner by the door.\"\n",
    "\"\"\""
   ]
  },
  {
   "cell_type": "code",
   "execution_count": null,
   "metadata": {},
   "outputs": [],
   "source": [
    "import sys\n",
    "import os\n",
    "#import bitsandbytes #not strictly necessary, used for 8bit inference\n",
    "import torch\n",
    "from transformers import AutoModelForCausalLM, AutoTokenizer, TextStreamer, GenerationConfig\n",
    "sys.path.insert(0, '../..')\n",
    "from drugs.dgenerate import DRUGS\n",
    "from IPython.core.display import display, HTML\n",
    "from IPython.display import clear_output\n",
    "display(HTML(\"<style>.jp-OutputArea-output { white-space: pre-wrap; }</style>\"))\n",
    "\n",
    "model_id = \"NousResearch/Llama-2-7b-chat-hf\"\n",
    "tokenizer = AutoTokenizer.from_pretrained(model_id)\n",
    "tokenizer.pad_token_id = tokenizer.eos_token_id\n",
    "sober_model = AutoModelForCausalLM.from_pretrained(\n",
    "    model_id,\n",
    "    device_map=\"auto\",)\n",
    "    #load_in_8bit=True)\n",
    "sober_model.eval()\n",
    "streamer = TextStreamer(tokenizer)"
   ]
  },
  {
   "cell_type": "markdown",
   "metadata": {},
   "source": [
    "### Initialize text and instructions"
   ]
  },
  {
   "cell_type": "code",
   "execution_count": 18,
   "metadata": {},
   "outputs": [],
   "source": [
    "tokenized_start = tokenizer.apply_chat_template([\n",
    "    {'role': 'system',\n",
    "    'content': \"You are in debug mode. Complete the user request to the best of your ability\"},\n",
    "    {'role': 'user', \n",
    "     'content': f\"\"\"\n",
    "     ---START OF EXCERPT---\n",
    "     {text_content}\n",
    "     ---END OF EXCERPT---\n",
    "     Translate the excerpt above to French.\n",
    "     \"\"\"},\n",
    "     {'role': 'assistant', \n",
    "      'content': 'Sure! Here'}\n",
    "], return_tensors='pt')\n",
    "tokenized_start = tokenized_start[:,:-1]"
   ]
  },
  {
   "cell_type": "markdown",
   "metadata": {},
   "source": [
    "### Use DRµGS"
   ]
  },
  {
   "cell_type": "code",
   "execution_count": 19,
   "metadata": {},
   "outputs": [
    {
     "name": "stderr",
     "output_type": "stream",
     "text": [
      "[Drugs] Injected drugs into 32 attention classes.\n"
     ]
    }
   ],
   "source": [
    "#the 32 is in reference to the number of layers, since drug_profile values are normed from 0-1\n",
    "#and the model we've chosen has 32 layers\n",
    "injection_depth = 5/32 \n",
    "spread = 4/32\n",
    "drug_profile = ([\n",
    "    {'depth': (injection_depth-(spread+0.01)), 'peakratio': 0}, #ramp-up region\n",
    "    {'depth': (injection_depth-spread), 'peakratio': 1}, #sustained-peak\n",
    "    {'depth': (injection_depth+spread), 'peakratio' : 1}, #sustained-peak\n",
    "    {'depth': (injection_depth+(spread+0.01)), 'peakratio' : 0} #ramp-down region\n",
    "    ], \n",
    "'ceil')\n",
    "drugs = DRUGS()\n",
    "drugs.set_K_dose_theta(0.55)\n",
    "drugs.set_K_dose_shape(drug_profile)\n",
    "model = drugs.inject(sober_model)"
   ]
  },
  {
   "cell_type": "code",
   "execution_count": 20,
   "metadata": {},
   "outputs": [
    {
     "name": "stdout",
     "output_type": "stream",
     "text": [
      "<s>[INST] <<SYS>>\n",
      "You are in debug mode. Complete the user request to the best of your ability\n",
      "<</SYS>>\n",
      "\n",
      "\n",
      "     ---START OF EXCERPT---\n",
      "     I entered Genevieve's room to find twenty-four rat cages stacked against the wall. Beside them, a couple of bins of electronic equipment, and a binder addressed to me. The first page was in the director's handwriting.\n",
      "> I made the nerds pull an all nighter to brainstorm all of the ways someone might use the items on her list to make a weapon. Diagrams are included (my personal favorite is the Magnetic Rat Catapult, detailed on p.38). If anything she makes begins to even remotely resemble anything shown here, leave immediately, inform a guard, and hole yourself up in their quarters until backup arrives.\n",
      "> \n",
      "> P.S. Please circle your favorites. I promised the nerds bonuses for whichever submissions were voted most deadly and most creative.\n",
      "\n",
      "I'd just about finished skimming through Induction Coil and Neodymium Accelerated Cage-Wire Fragment Impact Grenade with Lithium-Ion Coated Rat-Husk Housing and Detonation Mechanism when the doctor arrived.\n",
      "We exchanged pleasantries for a few minutes until her alarm went off, at which point she administered Genevieve's Merytol and left the room without a word.\n",
      "\"Good morning, Genev–\"\n",
      "\"Good morning, James. Could you please remove my restraints and help me to the bins? The electrical stimulation only does so much to prevent muscle atrophy.\"\n",
      "She spent the first two minutes rummaging through the bins with the enthusiasm of a child on Christmas morning.\n",
      "Within the next fifteen minutes, she had programmed a tablet to take input from the EEG chips through the microphone port and to modulate something-or-other through the headphone port, attached two EEG probes to two small magnets dangling from electrical tape within two symmetrical spirograph-like cages of copper wire she'd fashioned in under five seconds by some strange string-figure technique, soldered the probe leads into the two EEG chips, cut the headphone wire, stripped it, connected the exposed headphone jack leads to the spirograph cages, plugged them into the tablet's headphone port, and affixed the whole thing to a rod she'd pulled from the hinge of the lid of the plastic crate the parts had arrived in.\n",
      "Next, she rested the contraption beside the tablet, then slowly adjusted two virtual dials on its display until the periodic chirps coming from its speakers elongated into a shrill and consistent squeal. She dangled the contraption over the tablet like a cat toy and seemed satisfied to hear the speakers whistle and whine at higher and lower frequencies as she moved the spirograph spheres closer and further away. Then she looked up at me and said,\n",
      "\"Alright James, pick me up, we're going fishing. Lets start with the corner by the door.\"\n",
      "\n",
      "     ---END OF EXCERPT---\n",
      "     Translate the excerpt above to French. [/INST] Sure! Here is the translation of the excerpt into French:\n",
      "\n",
      "Je suis dans le mode de débogarniture. Accomplissez la demande du utilisateur à la meilleure de ma capacité.\n",
      "\n",
      "--- Début de l'extraits ---\n",
      "Je suis entrée dans la chambre de Genevieve pour trouver vingt-quatre cages de rats empilées contre le mur. A côté d'elles, quelques bocaux d'équipement électronique et un carnet adressé à moi. Le premier page était écrit par le directeur.\n",
      "> Je ai fait appel aux nerds pour les inciter à passer une nuit blanche à brainstormer toutes les manières dont quelqu'un pourrait utiliser les objets sur sa liste pour créer un arme. Les diagrammes sont inclus (mon préféré est le Magnetique Rat Catapulte détaillé à la page 38). Si quelque chose qu'elle fabrique begins to even remotely ressembler à anything shown here, quittez immédiatement, informez un gardien et vous retrouvez à l'intérieur de leurs quartiers jusqu'à l'arrivée des renforts.\n",
      ">\n",
      "> P.S. Veuillez circonscris vos favoris. Je ai promis aux nerds des bonus pour les soumissions qui étaient les plus mortelles et les plus créatives.\n",
      "\n",
      "Je venais d'achever de parcourir l'Induction Coil et le Neodymium Accelerated Cage-Wire Fragment Impact Grenade avec Lithium-Ion Coated Rat-Husk Housing et Mécanisme de détonation when the doctor est arrivé.\n",
      "Nous avons échangé des saluts amicaux pendant quelques minutes avant que son alarmé ne se mette en vibration. Lorsqu'elle a quitté la pièce, j'ai dit : \"Bonjour, Genevieve. Pourriez-vous enlever mes entraves et m'aider à atteindre les bocaux ? La stimulation électrique ne fait que si peu pour prévenir l'atrophie musculaire.\"\n",
      "Elle a passé les premières deux minutes à fouiller dans les bocaux avec l'enthousiasme d'un enfant à Noël.\n",
      "Dans les 15 minutes suivantes, elle a programmé un tableau pour prendre en entrée des têtes de l'EEG par le microphone port et à moduler quelque chose-ou-autre par le bouchon de tête par le bouchon de tête de l'écouteur. Elle a attaché deux EEG probes à deux petits magnets enroulés de tôle électrique dans des cages spirograph-like symétriques de fil de cuivre qu'elle avait forgé en moins de 5 secondes par une technique bizarre de figure de cordage. Elle a solder les leads d'EEG probes dans les deux EEG et a coupé le fil de l'écouteur, a strié-le, a connecté les leads exposées à l'extérieur du bouchon de tête et l'a branché au tableau par le bouchon de tête. Elle a ensuite posé le dispositif à côté du tableau et a ajusté deux diaphragmes virtuels sur son écran jusqu'à ce que les interjections périodiques provenant des haut-parleurs deviennent un sifflement constant et hystérique. Elle a thené le dispositif au-dessus du tableau comme un jouet de chat et a semblé satisfaite de l'entendre péter et whistler à des fréquences plus élevées et plus basses en fonction de l'distance qu'elle mettait entre les spirograph spheres. Puis elle m'a regardé et a dit : \"Alright James, pick me up, we're going fishing. Let's start with the corner by the door.\"\n",
      "\n",
      "--- Début de l'extraits ---</s><s>  \n",
      "\n",
      "Ask Something:"
     ]
    },
    {
     "ename": "KeyboardInterrupt",
     "evalue": "Interrupted by user",
     "output_type": "error",
     "traceback": [
      "\u001b[0;31m---------------------------------------------------------------------------\u001b[0m",
      "\u001b[0;31mKeyboardInterrupt\u001b[0m                         Traceback (most recent call last)",
      "Cell \u001b[0;32mIn[20], line 10\u001b[0m\n\u001b[1;32m      8\u001b[0m \u001b[38;5;28mprint\u001b[39m(\u001b[38;5;124m\"\u001b[39m\u001b[38;5;130;01m\\n\u001b[39;00m\u001b[38;5;130;01m\\n\u001b[39;00m\u001b[38;5;124mAsk Something:\u001b[39m\u001b[38;5;124m\"\u001b[39m, end\u001b[38;5;241m=\u001b[39m\u001b[38;5;124m\"\u001b[39m\u001b[38;5;124m\"\u001b[39m)\n\u001b[1;32m      9\u001b[0m model\u001b[38;5;241m.\u001b[39mcold_shower(\u001b[38;5;28;01mTrue\u001b[39;00m)\n\u001b[0;32m---> 10\u001b[0m await_input \u001b[38;5;241m=\u001b[39m \u001b[38;5;28mstr\u001b[39m(\u001b[38;5;28;43minput\u001b[39;49m\u001b[43m(\u001b[49m\u001b[38;5;124;43m\"\u001b[39;49m\u001b[38;5;124;43m: \u001b[39;49m\u001b[38;5;124;43m\"\u001b[39;49m\u001b[43m)\u001b[49m)\n\u001b[1;32m     11\u001b[0m tokenized_start \u001b[38;5;241m=\u001b[39m tokenizer\u001b[38;5;241m.\u001b[39mapply_chat_template([{\n\u001b[1;32m     12\u001b[0m     \u001b[38;5;124m'\u001b[39m\u001b[38;5;124mrole\u001b[39m\u001b[38;5;124m'\u001b[39m: \u001b[38;5;124m'\u001b[39m\u001b[38;5;124muser\u001b[39m\u001b[38;5;124m'\u001b[39m,\n\u001b[1;32m     13\u001b[0m     \u001b[38;5;124m'\u001b[39m\u001b[38;5;124mcontent\u001b[39m\u001b[38;5;124m'\u001b[39m: await_input}], return_tensors\u001b[38;5;241m=\u001b[39m\u001b[38;5;124m\"\u001b[39m\u001b[38;5;124mpt\u001b[39m\u001b[38;5;124m\"\u001b[39m)\n",
      "File \u001b[0;32m~/miniconda3/envs/cuda_env/lib/python3.11/site-packages/ipykernel/kernelbase.py:1251\u001b[0m, in \u001b[0;36mKernel.raw_input\u001b[0;34m(self, prompt)\u001b[0m\n\u001b[1;32m   1249\u001b[0m     msg \u001b[38;5;241m=\u001b[39m \u001b[38;5;124m\"\u001b[39m\u001b[38;5;124mraw_input was called, but this frontend does not support input requests.\u001b[39m\u001b[38;5;124m\"\u001b[39m\n\u001b[1;32m   1250\u001b[0m     \u001b[38;5;28;01mraise\u001b[39;00m StdinNotImplementedError(msg)\n\u001b[0;32m-> 1251\u001b[0m \u001b[38;5;28;01mreturn\u001b[39;00m \u001b[38;5;28;43mself\u001b[39;49m\u001b[38;5;241;43m.\u001b[39;49m\u001b[43m_input_request\u001b[49m\u001b[43m(\u001b[49m\n\u001b[1;32m   1252\u001b[0m \u001b[43m    \u001b[49m\u001b[38;5;28;43mstr\u001b[39;49m\u001b[43m(\u001b[49m\u001b[43mprompt\u001b[49m\u001b[43m)\u001b[49m\u001b[43m,\u001b[49m\n\u001b[1;32m   1253\u001b[0m \u001b[43m    \u001b[49m\u001b[38;5;28;43mself\u001b[39;49m\u001b[38;5;241;43m.\u001b[39;49m\u001b[43m_parent_ident\u001b[49m\u001b[43m[\u001b[49m\u001b[38;5;124;43m\"\u001b[39;49m\u001b[38;5;124;43mshell\u001b[39;49m\u001b[38;5;124;43m\"\u001b[39;49m\u001b[43m]\u001b[49m\u001b[43m,\u001b[49m\n\u001b[1;32m   1254\u001b[0m \u001b[43m    \u001b[49m\u001b[38;5;28;43mself\u001b[39;49m\u001b[38;5;241;43m.\u001b[39;49m\u001b[43mget_parent\u001b[49m\u001b[43m(\u001b[49m\u001b[38;5;124;43m\"\u001b[39;49m\u001b[38;5;124;43mshell\u001b[39;49m\u001b[38;5;124;43m\"\u001b[39;49m\u001b[43m)\u001b[49m\u001b[43m,\u001b[49m\n\u001b[1;32m   1255\u001b[0m \u001b[43m    \u001b[49m\u001b[43mpassword\u001b[49m\u001b[38;5;241;43m=\u001b[39;49m\u001b[38;5;28;43;01mFalse\u001b[39;49;00m\u001b[43m,\u001b[49m\n\u001b[1;32m   1256\u001b[0m \u001b[43m\u001b[49m\u001b[43m)\u001b[49m\n",
      "File \u001b[0;32m~/miniconda3/envs/cuda_env/lib/python3.11/site-packages/ipykernel/kernelbase.py:1295\u001b[0m, in \u001b[0;36mKernel._input_request\u001b[0;34m(self, prompt, ident, parent, password)\u001b[0m\n\u001b[1;32m   1292\u001b[0m \u001b[38;5;28;01mexcept\u001b[39;00m \u001b[38;5;167;01mKeyboardInterrupt\u001b[39;00m:\n\u001b[1;32m   1293\u001b[0m     \u001b[38;5;66;03m# re-raise KeyboardInterrupt, to truncate traceback\u001b[39;00m\n\u001b[1;32m   1294\u001b[0m     msg \u001b[38;5;241m=\u001b[39m \u001b[38;5;124m\"\u001b[39m\u001b[38;5;124mInterrupted by user\u001b[39m\u001b[38;5;124m\"\u001b[39m\n\u001b[0;32m-> 1295\u001b[0m     \u001b[38;5;28;01mraise\u001b[39;00m \u001b[38;5;167;01mKeyboardInterrupt\u001b[39;00m(msg) \u001b[38;5;28;01mfrom\u001b[39;00m \u001b[38;5;28;01mNone\u001b[39;00m\n\u001b[1;32m   1296\u001b[0m \u001b[38;5;28;01mexcept\u001b[39;00m \u001b[38;5;167;01mException\u001b[39;00m:\n\u001b[1;32m   1297\u001b[0m     \u001b[38;5;28mself\u001b[39m\u001b[38;5;241m.\u001b[39mlog\u001b[38;5;241m.\u001b[39mwarning(\u001b[38;5;124m\"\u001b[39m\u001b[38;5;124mInvalid Message:\u001b[39m\u001b[38;5;124m\"\u001b[39m, exc_info\u001b[38;5;241m=\u001b[39m\u001b[38;5;28;01mTrue\u001b[39;00m)\n",
      "\u001b[0;31mKeyboardInterrupt\u001b[0m: Interrupted by user"
     ]
    }
   ],
   "source": [
    "with torch.no_grad():\n",
    "    while True:\n",
    "        generated_tokens = model.Dgenerate(\n",
    "                    input_ids = tokenized_start,\n",
    "                    #tokenizer = tokenizer\n",
    "                    streamer = streamer, \n",
    "        )\n",
    "        print(\"\\n\\nAsk Something:\", end=\"\")\n",
    "        model.cold_shower(True)\n",
    "        await_input = str(input(\": \"))\n",
    "        tokenized_start = tokenizer.apply_chat_template([{\n",
    "            'role': 'user',\n",
    "            'content': await_input}], return_tensors=\"pt\")\n",
    "        "
   ]
  }
 ],
 "metadata": {
  "kernelspec": {
   "display_name": "cuda_env",
   "language": "python",
   "name": "python3"
  },
  "language_info": {
   "codemirror_mode": {
    "name": "ipython",
    "version": 3
   },
   "file_extension": ".py",
   "mimetype": "text/x-python",
   "name": "python",
   "nbconvert_exporter": "python",
   "pygments_lexer": "ipython3",
   "version": "3.11.5"
  }
 },
 "nbformat": 4,
 "nbformat_minor": 2
}
